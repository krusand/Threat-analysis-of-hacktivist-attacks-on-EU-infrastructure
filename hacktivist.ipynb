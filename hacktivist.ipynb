{
 "cells": [
  {
   "cell_type": "code",
   "execution_count": 129,
   "metadata": {},
   "outputs": [],
   "source": [
    "import pandas as pd\n",
    "from tqdm import tqdm\n",
    "tqdm.pandas()\n",
    "hacktivist_messages = pd.read_csv(\"data/hacktivist_messages.csv\", sep=\";\")\n",
    "hacktivist_messages = hacktivist_messages.dropna()"
   ]
  },
  {
   "cell_type": "code",
   "execution_count": 133,
   "metadata": {},
   "outputs": [
    {
     "name": "stdout",
     "output_type": "stream",
     "text": [
      "2024-09-04 12:51:36,393 SequenceTagger predicts: Dictionary with 20 tags: <unk>, O, S-ORG, S-MISC, B-PER, E-PER, S-LOC, B-ORG, E-ORG, I-PER, S-PER, B-MISC, I-MISC, E-MISC, I-ORG, B-LOC, E-LOC, I-LOC, <START>, <STOP>\n"
     ]
    },
    {
     "name": "stderr",
     "output_type": "stream",
     "text": [
      "100%|██████████| 2995/2995 [17:09<00:00,  2.91it/s]\n"
     ]
    }
   ],
   "source": [
    "from flair.data import Sentence\n",
    "from flair.models import SequenceTagger\n",
    "import math\n",
    "\n",
    "# load tagger\n",
    "tagger = SequenceTagger.load(\"flair/ner-english-fast\")\n",
    "\n",
    "tagged_texts = []\n",
    "for row in tqdm(hacktivist_messages.iterrows(), total=hacktivist_messages.shape[0]):\n",
    "    text = Sentence(row[1][\"Text\"])\n",
    "    tagger.predict(text)\n",
    "    tagged_texts.append(text)\n",
    "\n",
    "hacktivist_messages[\"NER\"] = tagged_texts"
   ]
  },
  {
   "cell_type": "code",
   "execution_count": 183,
   "metadata": {},
   "outputs": [
    {
     "name": "stderr",
     "output_type": "stream",
     "text": [
      "pytorch_model.bin: 100%|██████████| 1.30G/1.30G [01:36<00:00, 13.4MB/s]\n"
     ]
    },
    {
     "name": "stdout",
     "output_type": "stream",
     "text": [
      "2024-09-04 13:41:36,505 SequenceTagger predicts: Dictionary with 75 tags: O, S-PERSON, B-PERSON, E-PERSON, I-PERSON, S-GPE, B-GPE, E-GPE, I-GPE, S-ORG, B-ORG, E-ORG, I-ORG, S-DATE, B-DATE, E-DATE, I-DATE, S-CARDINAL, B-CARDINAL, E-CARDINAL, I-CARDINAL, S-NORP, B-NORP, E-NORP, I-NORP, S-MONEY, B-MONEY, E-MONEY, I-MONEY, S-PERCENT, B-PERCENT, E-PERCENT, I-PERCENT, S-ORDINAL, B-ORDINAL, E-ORDINAL, I-ORDINAL, S-LOC, B-LOC, E-LOC, I-LOC, S-TIME, B-TIME, E-TIME, I-TIME, S-WORK_OF_ART, B-WORK_OF_ART, E-WORK_OF_ART, I-WORK_OF_ART, S-FAC\n"
     ]
    },
    {
     "name": "stderr",
     "output_type": "stream",
     "text": [
      " 11%|█         | 330/2995 [01:20<10:47,  4.12it/s]\n"
     ]
    },
    {
     "ename": "KeyboardInterrupt",
     "evalue": "",
     "output_type": "error",
     "traceback": [
      "\u001b[0;31m---------------------------------------------------------------------------\u001b[0m",
      "\u001b[0;31mKeyboardInterrupt\u001b[0m                         Traceback (most recent call last)",
      "Cell \u001b[0;32mIn[183], line 6\u001b[0m\n\u001b[1;32m      4\u001b[0m \u001b[38;5;28;01mfor\u001b[39;00m row \u001b[38;5;129;01min\u001b[39;00m tqdm(hacktivist_messages\u001b[38;5;241m.\u001b[39miterrows(), total\u001b[38;5;241m=\u001b[39mhacktivist_messages\u001b[38;5;241m.\u001b[39mshape[\u001b[38;5;241m0\u001b[39m]):\n\u001b[1;32m      5\u001b[0m     text \u001b[38;5;241m=\u001b[39m Sentence(row[\u001b[38;5;241m1\u001b[39m][\u001b[38;5;124m\"\u001b[39m\u001b[38;5;124mText\u001b[39m\u001b[38;5;124m\"\u001b[39m])\n\u001b[0;32m----> 6\u001b[0m     \u001b[43mtagger_ontonotes\u001b[49m\u001b[38;5;241;43m.\u001b[39;49m\u001b[43mpredict\u001b[49m\u001b[43m(\u001b[49m\u001b[43mtext\u001b[49m\u001b[43m)\u001b[49m\n\u001b[1;32m      7\u001b[0m     tagged_texts_ontonotes\u001b[38;5;241m.\u001b[39mappend(text)\n\u001b[1;32m      9\u001b[0m hacktivist_messages[\u001b[38;5;124m\"\u001b[39m\u001b[38;5;124mNER_onto\u001b[39m\u001b[38;5;124m\"\u001b[39m] \u001b[38;5;241m=\u001b[39m tagged_texts_ontonotes\n",
      "File \u001b[0;32m/opt/homebrew/Caskroom/miniconda/base/lib/python3.11/site-packages/flair/models/sequence_tagger_model.py:492\u001b[0m, in \u001b[0;36mSequenceTagger.predict\u001b[0;34m(self, sentences, mini_batch_size, return_probabilities_for_all_classes, verbose, label_name, return_loss, embedding_storage_mode, force_token_predictions)\u001b[0m\n\u001b[1;32m    489\u001b[0m     \u001b[38;5;28;01mcontinue\u001b[39;00m\n\u001b[1;32m    491\u001b[0m \u001b[38;5;66;03m# get features from forward propagation\u001b[39;00m\n\u001b[0;32m--> 492\u001b[0m sentence_tensor, lengths \u001b[38;5;241m=\u001b[39m \u001b[38;5;28;43mself\u001b[39;49m\u001b[38;5;241;43m.\u001b[39;49m\u001b[43m_prepare_tensors\u001b[49m\u001b[43m(\u001b[49m\u001b[43mbatch\u001b[49m\u001b[43m)\u001b[49m\n\u001b[1;32m    493\u001b[0m features \u001b[38;5;241m=\u001b[39m \u001b[38;5;28mself\u001b[39m\u001b[38;5;241m.\u001b[39mforward(sentence_tensor, lengths)\n\u001b[1;32m    495\u001b[0m \u001b[38;5;66;03m# remove previously predicted labels of this type\u001b[39;00m\n",
      "File \u001b[0;32m/opt/homebrew/Caskroom/miniconda/base/lib/python3.11/site-packages/flair/models/sequence_tagger_model.py:286\u001b[0m, in \u001b[0;36mSequenceTagger._prepare_tensors\u001b[0;34m(self, data_points)\u001b[0m\n\u001b[1;32m    284\u001b[0m \u001b[38;5;28;01mdef\u001b[39;00m \u001b[38;5;21m_prepare_tensors\u001b[39m(\u001b[38;5;28mself\u001b[39m, data_points: Union[List[Sentence], Sentence]) \u001b[38;5;241m-\u001b[39m\u001b[38;5;241m>\u001b[39m Tuple[torch\u001b[38;5;241m.\u001b[39mTensor, torch\u001b[38;5;241m.\u001b[39mLongTensor]:\n\u001b[1;32m    285\u001b[0m     sentences \u001b[38;5;241m=\u001b[39m [data_points] \u001b[38;5;28;01mif\u001b[39;00m \u001b[38;5;129;01mnot\u001b[39;00m \u001b[38;5;28misinstance\u001b[39m(data_points, \u001b[38;5;28mlist\u001b[39m) \u001b[38;5;28;01melse\u001b[39;00m data_points\n\u001b[0;32m--> 286\u001b[0m     \u001b[38;5;28;43mself\u001b[39;49m\u001b[38;5;241;43m.\u001b[39;49m\u001b[43membeddings\u001b[49m\u001b[38;5;241;43m.\u001b[39;49m\u001b[43membed\u001b[49m\u001b[43m(\u001b[49m\u001b[43msentences\u001b[49m\u001b[43m)\u001b[49m\n\u001b[1;32m    288\u001b[0m     \u001b[38;5;66;03m# make a zero-padded tensor for the whole sentence\u001b[39;00m\n\u001b[1;32m    289\u001b[0m     lengths, sentence_tensor \u001b[38;5;241m=\u001b[39m \u001b[38;5;28mself\u001b[39m\u001b[38;5;241m.\u001b[39m_make_padded_tensor_for_batch(sentences)\n",
      "File \u001b[0;32m/opt/homebrew/Caskroom/miniconda/base/lib/python3.11/site-packages/flair/embeddings/token.py:97\u001b[0m, in \u001b[0;36mStackedEmbeddings.embed\u001b[0;34m(self, sentences, static_embeddings)\u001b[0m\n\u001b[1;32m     94\u001b[0m     sentences \u001b[38;5;241m=\u001b[39m [sentences]\n\u001b[1;32m     96\u001b[0m \u001b[38;5;28;01mfor\u001b[39;00m embedding \u001b[38;5;129;01min\u001b[39;00m \u001b[38;5;28mself\u001b[39m\u001b[38;5;241m.\u001b[39membeddings:\n\u001b[0;32m---> 97\u001b[0m     \u001b[43membedding\u001b[49m\u001b[38;5;241;43m.\u001b[39;49m\u001b[43membed\u001b[49m\u001b[43m(\u001b[49m\u001b[43msentences\u001b[49m\u001b[43m)\u001b[49m\n",
      "File \u001b[0;32m/opt/homebrew/Caskroom/miniconda/base/lib/python3.11/site-packages/flair/embeddings/base.py:50\u001b[0m, in \u001b[0;36mEmbeddings.embed\u001b[0;34m(self, data_points)\u001b[0m\n\u001b[1;32m     47\u001b[0m     data_points \u001b[38;5;241m=\u001b[39m [data_points]\n\u001b[1;32m     49\u001b[0m \u001b[38;5;28;01mif\u001b[39;00m \u001b[38;5;129;01mnot\u001b[39;00m \u001b[38;5;28mself\u001b[39m\u001b[38;5;241m.\u001b[39m_everything_embedded(data_points):\n\u001b[0;32m---> 50\u001b[0m     \u001b[38;5;28;43mself\u001b[39;49m\u001b[38;5;241;43m.\u001b[39;49m\u001b[43m_add_embeddings_internal\u001b[49m\u001b[43m(\u001b[49m\u001b[43mdata_points\u001b[49m\u001b[43m)\u001b[49m\n\u001b[1;32m     52\u001b[0m \u001b[38;5;28;01mreturn\u001b[39;00m data_points\n",
      "File \u001b[0;32m/opt/homebrew/Caskroom/miniconda/base/lib/python3.11/site-packages/flair/embeddings/token.py:815\u001b[0m, in \u001b[0;36mFlairEmbeddings._add_embeddings_internal\u001b[0;34m(self, sentences)\u001b[0m\n\u001b[1;32m    812\u001b[0m end_marker \u001b[38;5;241m=\u001b[39m \u001b[38;5;124m\"\u001b[39m\u001b[38;5;124m \u001b[39m\u001b[38;5;124m\"\u001b[39m\n\u001b[1;32m    814\u001b[0m \u001b[38;5;66;03m# get hidden states from language model\u001b[39;00m\n\u001b[0;32m--> 815\u001b[0m all_hidden_states_in_lm \u001b[38;5;241m=\u001b[39m \u001b[38;5;28;43mself\u001b[39;49m\u001b[38;5;241;43m.\u001b[39;49m\u001b[43mlm\u001b[49m\u001b[38;5;241;43m.\u001b[39;49m\u001b[43mget_representation\u001b[49m\u001b[43m(\u001b[49m\n\u001b[1;32m    816\u001b[0m \u001b[43m    \u001b[49m\u001b[43mtext_sentences\u001b[49m\u001b[43m,\u001b[49m\u001b[43m \u001b[49m\u001b[43mstart_marker\u001b[49m\u001b[43m,\u001b[49m\u001b[43m \u001b[49m\u001b[43mend_marker\u001b[49m\u001b[43m,\u001b[49m\u001b[43m \u001b[49m\u001b[38;5;28;43mself\u001b[39;49m\u001b[38;5;241;43m.\u001b[39;49m\u001b[43mchars_per_chunk\u001b[49m\n\u001b[1;32m    817\u001b[0m \u001b[43m\u001b[49m\u001b[43m)\u001b[49m\n\u001b[1;32m    819\u001b[0m \u001b[38;5;28;01mif\u001b[39;00m \u001b[38;5;129;01mnot\u001b[39;00m \u001b[38;5;28mself\u001b[39m\u001b[38;5;241m.\u001b[39mfine_tune:\n\u001b[1;32m    820\u001b[0m     all_hidden_states_in_lm \u001b[38;5;241m=\u001b[39m all_hidden_states_in_lm\u001b[38;5;241m.\u001b[39mdetach()\n",
      "File \u001b[0;32m/opt/homebrew/Caskroom/miniconda/base/lib/python3.11/site-packages/flair/models/language_model.py:160\u001b[0m, in \u001b[0;36mLanguageModel.get_representation\u001b[0;34m(self, strings, start_marker, end_marker, chars_per_chunk)\u001b[0m\n\u001b[1;32m    158\u001b[0m \u001b[38;5;28;01mfor\u001b[39;00m batch \u001b[38;5;129;01min\u001b[39;00m batches:\n\u001b[1;32m    159\u001b[0m     batch \u001b[38;5;241m=\u001b[39m batch\u001b[38;5;241m.\u001b[39mtranspose(\u001b[38;5;241m0\u001b[39m, \u001b[38;5;241m1\u001b[39m)\n\u001b[0;32m--> 160\u001b[0m     rnn_output, hidden \u001b[38;5;241m=\u001b[39m \u001b[38;5;28;43mself\u001b[39;49m\u001b[38;5;241;43m.\u001b[39;49m\u001b[43mforward\u001b[49m\u001b[43m(\u001b[49m\u001b[43mbatch\u001b[49m\u001b[43m,\u001b[49m\u001b[43m \u001b[49m\u001b[43mhidden\u001b[49m\u001b[43m,\u001b[49m\u001b[43m \u001b[49m\u001b[43mdecode\u001b[49m\u001b[38;5;241;43m=\u001b[39;49m\u001b[38;5;28;43;01mFalse\u001b[39;49;00m\u001b[43m)\u001b[49m\n\u001b[1;32m    161\u001b[0m     output_parts\u001b[38;5;241m.\u001b[39mappend(rnn_output)\n\u001b[1;32m    163\u001b[0m \u001b[38;5;66;03m# concatenate all chunks to make final output\u001b[39;00m\n",
      "File \u001b[0;32m/opt/homebrew/Caskroom/miniconda/base/lib/python3.11/site-packages/flair/models/language_model.py:88\u001b[0m, in \u001b[0;36mLanguageModel.forward\u001b[0;34m(self, input, hidden, ordered_sequence_lengths, decode)\u001b[0m\n\u001b[1;32m     86\u001b[0m     hidden \u001b[38;5;241m=\u001b[39m (h,)\n\u001b[1;32m     87\u001b[0m \u001b[38;5;28;01melse\u001b[39;00m:\n\u001b[0;32m---> 88\u001b[0m     output, hidden \u001b[38;5;241m=\u001b[39m \u001b[38;5;28;43mself\u001b[39;49m\u001b[38;5;241;43m.\u001b[39;49m\u001b[43mrnn\u001b[49m\u001b[43m(\u001b[49m\u001b[43memb\u001b[49m\u001b[43m,\u001b[49m\u001b[43m \u001b[49m\u001b[43mhidden\u001b[49m\u001b[43m)\u001b[49m\n\u001b[1;32m     90\u001b[0m \u001b[38;5;28;01mif\u001b[39;00m \u001b[38;5;28mself\u001b[39m\u001b[38;5;241m.\u001b[39mproj \u001b[38;5;129;01mis\u001b[39;00m \u001b[38;5;129;01mnot\u001b[39;00m \u001b[38;5;28;01mNone\u001b[39;00m:\n\u001b[1;32m     91\u001b[0m     output \u001b[38;5;241m=\u001b[39m \u001b[38;5;28mself\u001b[39m\u001b[38;5;241m.\u001b[39mproj(output)\n",
      "File \u001b[0;32m/opt/homebrew/Caskroom/miniconda/base/lib/python3.11/site-packages/torch/nn/modules/module.py:1532\u001b[0m, in \u001b[0;36mModule._wrapped_call_impl\u001b[0;34m(self, *args, **kwargs)\u001b[0m\n\u001b[1;32m   1530\u001b[0m     \u001b[38;5;28;01mreturn\u001b[39;00m \u001b[38;5;28mself\u001b[39m\u001b[38;5;241m.\u001b[39m_compiled_call_impl(\u001b[38;5;241m*\u001b[39margs, \u001b[38;5;241m*\u001b[39m\u001b[38;5;241m*\u001b[39mkwargs)  \u001b[38;5;66;03m# type: ignore[misc]\u001b[39;00m\n\u001b[1;32m   1531\u001b[0m \u001b[38;5;28;01melse\u001b[39;00m:\n\u001b[0;32m-> 1532\u001b[0m     \u001b[38;5;28;01mreturn\u001b[39;00m \u001b[38;5;28;43mself\u001b[39;49m\u001b[38;5;241;43m.\u001b[39;49m\u001b[43m_call_impl\u001b[49m\u001b[43m(\u001b[49m\u001b[38;5;241;43m*\u001b[39;49m\u001b[43margs\u001b[49m\u001b[43m,\u001b[49m\u001b[43m \u001b[49m\u001b[38;5;241;43m*\u001b[39;49m\u001b[38;5;241;43m*\u001b[39;49m\u001b[43mkwargs\u001b[49m\u001b[43m)\u001b[49m\n",
      "File \u001b[0;32m/opt/homebrew/Caskroom/miniconda/base/lib/python3.11/site-packages/torch/nn/modules/module.py:1541\u001b[0m, in \u001b[0;36mModule._call_impl\u001b[0;34m(self, *args, **kwargs)\u001b[0m\n\u001b[1;32m   1536\u001b[0m \u001b[38;5;66;03m# If we don't have any hooks, we want to skip the rest of the logic in\u001b[39;00m\n\u001b[1;32m   1537\u001b[0m \u001b[38;5;66;03m# this function, and just call forward.\u001b[39;00m\n\u001b[1;32m   1538\u001b[0m \u001b[38;5;28;01mif\u001b[39;00m \u001b[38;5;129;01mnot\u001b[39;00m (\u001b[38;5;28mself\u001b[39m\u001b[38;5;241m.\u001b[39m_backward_hooks \u001b[38;5;129;01mor\u001b[39;00m \u001b[38;5;28mself\u001b[39m\u001b[38;5;241m.\u001b[39m_backward_pre_hooks \u001b[38;5;129;01mor\u001b[39;00m \u001b[38;5;28mself\u001b[39m\u001b[38;5;241m.\u001b[39m_forward_hooks \u001b[38;5;129;01mor\u001b[39;00m \u001b[38;5;28mself\u001b[39m\u001b[38;5;241m.\u001b[39m_forward_pre_hooks\n\u001b[1;32m   1539\u001b[0m         \u001b[38;5;129;01mor\u001b[39;00m _global_backward_pre_hooks \u001b[38;5;129;01mor\u001b[39;00m _global_backward_hooks\n\u001b[1;32m   1540\u001b[0m         \u001b[38;5;129;01mor\u001b[39;00m _global_forward_hooks \u001b[38;5;129;01mor\u001b[39;00m _global_forward_pre_hooks):\n\u001b[0;32m-> 1541\u001b[0m     \u001b[38;5;28;01mreturn\u001b[39;00m \u001b[43mforward_call\u001b[49m\u001b[43m(\u001b[49m\u001b[38;5;241;43m*\u001b[39;49m\u001b[43margs\u001b[49m\u001b[43m,\u001b[49m\u001b[43m \u001b[49m\u001b[38;5;241;43m*\u001b[39;49m\u001b[38;5;241;43m*\u001b[39;49m\u001b[43mkwargs\u001b[49m\u001b[43m)\u001b[49m\n\u001b[1;32m   1543\u001b[0m \u001b[38;5;28;01mtry\u001b[39;00m:\n\u001b[1;32m   1544\u001b[0m     result \u001b[38;5;241m=\u001b[39m \u001b[38;5;28;01mNone\u001b[39;00m\n",
      "File \u001b[0;32m/opt/homebrew/Caskroom/miniconda/base/lib/python3.11/site-packages/torch/nn/modules/rnn.py:911\u001b[0m, in \u001b[0;36mLSTM.forward\u001b[0;34m(self, input, hx)\u001b[0m\n\u001b[1;32m    908\u001b[0m         hx \u001b[38;5;241m=\u001b[39m \u001b[38;5;28mself\u001b[39m\u001b[38;5;241m.\u001b[39mpermute_hidden(hx, sorted_indices)\n\u001b[1;32m    910\u001b[0m \u001b[38;5;28;01mif\u001b[39;00m batch_sizes \u001b[38;5;129;01mis\u001b[39;00m \u001b[38;5;28;01mNone\u001b[39;00m:\n\u001b[0;32m--> 911\u001b[0m     result \u001b[38;5;241m=\u001b[39m \u001b[43m_VF\u001b[49m\u001b[38;5;241;43m.\u001b[39;49m\u001b[43mlstm\u001b[49m\u001b[43m(\u001b[49m\u001b[38;5;28;43minput\u001b[39;49m\u001b[43m,\u001b[49m\u001b[43m \u001b[49m\u001b[43mhx\u001b[49m\u001b[43m,\u001b[49m\u001b[43m \u001b[49m\u001b[38;5;28;43mself\u001b[39;49m\u001b[38;5;241;43m.\u001b[39;49m\u001b[43m_flat_weights\u001b[49m\u001b[43m,\u001b[49m\u001b[43m \u001b[49m\u001b[38;5;28;43mself\u001b[39;49m\u001b[38;5;241;43m.\u001b[39;49m\u001b[43mbias\u001b[49m\u001b[43m,\u001b[49m\u001b[43m \u001b[49m\u001b[38;5;28;43mself\u001b[39;49m\u001b[38;5;241;43m.\u001b[39;49m\u001b[43mnum_layers\u001b[49m\u001b[43m,\u001b[49m\n\u001b[1;32m    912\u001b[0m \u001b[43m                      \u001b[49m\u001b[38;5;28;43mself\u001b[39;49m\u001b[38;5;241;43m.\u001b[39;49m\u001b[43mdropout\u001b[49m\u001b[43m,\u001b[49m\u001b[43m \u001b[49m\u001b[38;5;28;43mself\u001b[39;49m\u001b[38;5;241;43m.\u001b[39;49m\u001b[43mtraining\u001b[49m\u001b[43m,\u001b[49m\u001b[43m \u001b[49m\u001b[38;5;28;43mself\u001b[39;49m\u001b[38;5;241;43m.\u001b[39;49m\u001b[43mbidirectional\u001b[49m\u001b[43m,\u001b[49m\u001b[43m \u001b[49m\u001b[38;5;28;43mself\u001b[39;49m\u001b[38;5;241;43m.\u001b[39;49m\u001b[43mbatch_first\u001b[49m\u001b[43m)\u001b[49m\n\u001b[1;32m    913\u001b[0m \u001b[38;5;28;01melse\u001b[39;00m:\n\u001b[1;32m    914\u001b[0m     result \u001b[38;5;241m=\u001b[39m _VF\u001b[38;5;241m.\u001b[39mlstm(\u001b[38;5;28minput\u001b[39m, batch_sizes, hx, \u001b[38;5;28mself\u001b[39m\u001b[38;5;241m.\u001b[39m_flat_weights, \u001b[38;5;28mself\u001b[39m\u001b[38;5;241m.\u001b[39mbias,\n\u001b[1;32m    915\u001b[0m                       \u001b[38;5;28mself\u001b[39m\u001b[38;5;241m.\u001b[39mnum_layers, \u001b[38;5;28mself\u001b[39m\u001b[38;5;241m.\u001b[39mdropout, \u001b[38;5;28mself\u001b[39m\u001b[38;5;241m.\u001b[39mtraining, \u001b[38;5;28mself\u001b[39m\u001b[38;5;241m.\u001b[39mbidirectional)\n",
      "\u001b[0;31mKeyboardInterrupt\u001b[0m: "
     ]
    }
   ],
   "source": [
    "tagger_ontonotes = SequenceTagger.load(\"ner-ontonotes-fast\")\n",
    "\n",
    "tagged_texts_ontonotes = []\n",
    "for row in tqdm(hacktivist_messages.iterrows(), total=hacktivist_messages.shape[0]):\n",
    "    text = Sentence(row[1][\"Text\"])\n",
    "    tagger_ontonotes.predict(text)\n",
    "    tagged_texts_ontonotes.append(text)\n",
    "\n",
    "hacktivist_messages[\"NER_onto\"] = tagged_texts_ontonotes"
   ]
  },
  {
   "cell_type": "code",
   "execution_count": 174,
   "metadata": {},
   "outputs": [],
   "source": [
    "message_ids = []\n",
    "labels = []\n",
    "label_texts = []\n",
    "\n",
    "for row in hacktivist_messages.iterrows():\n",
    "    sentence = row[1][\"NER\"]\n",
    "    message_id = row[1][\"Message Id\"]\n",
    "    for label in sentence.get_labels():\n",
    "        message_ids.append(message_id)\n",
    "        labels.append(label.value)\n",
    "        label_texts.append(label.data_point.text)\n",
    "\n",
    "ner_tagged_data = pd.DataFrame({\n",
    "    \"message_ids\": message_ids, \n",
    "    \"text\": label_texts,\n",
    "    \"label\":labels\n",
    "})"
   ]
  },
  {
   "cell_type": "code",
   "execution_count": null,
   "metadata": {},
   "outputs": [],
   "source": [
    "hacktivist_messages"
   ]
  },
  {
   "cell_type": "code",
   "execution_count": 182,
   "metadata": {},
   "outputs": [
    {
     "data": {
      "text/plain": [
       "array(['Poland', 'Russia', 'Belarus', 'USA', 'Lithuania', 'Latvia',\n",
       "       'Wągrowiec', 'Krotoshin', 'Lobez', 'Estonia', 'Warmia',\n",
       "       'Mazury Voivodeship', 'Pomeranian Voivodeship Court of Poland',\n",
       "       'Kuyavian-Pomeranian Voivodeship of Poland', 'Motherland',\n",
       "       'Pomeranian Voivodeship of Poland', 'Swietokrzyski Voivodeship',\n",
       "       'Limanow', 'Sieradz', 'Wlodawa', 'Yawor', 'Nowy Dwor Mazowiecki',\n",
       "       'Sweden', 'Germany', 'Hungary', 'Brodnitsa', 'Krakow Nowa Huta',\n",
       "       'Glogow', 'Sroda-Slianska', 'Riga', 'State Training Center',\n",
       "       'Gdynia', 'Tallinn', 'Kuressaare', 'Ukraine', 'Austria', 'Italy',\n",
       "       'France', 'Switzerland', 'Western Europe', 'Rzeszow', 'Ventspils',\n",
       "       'Warsaw', 'Denmark', 'Jyskebank', 'Czech Republic', 'Kiev',\n",
       "       'Bulgaria', 'Europe', 'Dnieper', 'Dniester', 'US', 'Washington',\n",
       "       'Europe.And', 'Kyiv', 'Zaporizhzhya', 'Zhytomyr', 'Stockholm',\n",
       "       'Ukraine.', 'Paris', 'UK', 'Norway', 'Finland', 'Iceland',\n",
       "       'Moscow', 'Vilnius', 'Klaipeda', 'Palanga', 'Siauliai', 'Tokyo',\n",
       "       'Japan.', 'Japan', 'France.', 'Zory', 'Slovak Republic',\n",
       "       'Russophobic Japan', 'Kyiv.Following', 'Gorzow Wielkopolski',\n",
       "       'Baltics', 'Nord Stream', 'Sweden.We', 'Munich', 'West',\n",
       "       'Russophobic Italy', 'Vienna', 'Berlin', 'Russophobic Denmark',\n",
       "       'Zielona Góra', 'Szczecin', 'Kyiv.Our', 'Spain', 'Slovakia',\n",
       "       'Lubusz', 'Latvian Seimas', 'Riga Congress House',\n",
       "       'Russian Federation', 'Russophobic Latvia', 'Legnica',\n",
       "       \"Polish People's Republic\", 'Western Direction',\n",
       "       'Russophobic Poland', 'Ukraine.And', 'Tarnów',\n",
       "       'Aleksandrov Kuyavsky', 'Gdansk', 'Kaunas', 'Kyiv.', 'Zaporozhye',\n",
       "       'Rome', 'Cambridgeshire East', 'Russia.It', 'Šiauliai', 'Rezekne',\n",
       "       'Britain', 'Germany.', 'The Netherlands', 'Odessa.', 'Netherlands',\n",
       "       'Amsterdam', 'National Training Center', 'Zaragoza', 'Kingdom',\n",
       "       'Kaliningrad', 'Crimea', 'North Macedonia', 'Sushki', 'Skopje',\n",
       "       'Assembly of the Republic of North Macedonia', 'Italy.', 'Bologna',\n",
       "       'Florenc Central Bus Station', 'Prague', 'Yugoslavia',\n",
       "       'Prague Letnany', 'Brno-Turany', 'The Hague', 'Vistula Spit River',\n",
       "       'Vistula', 'Yamal-Europe', 'England', 'London', 'Bristol Airport',\n",
       "       'Great Britain', 'Buckfastley', 'Bandera', 'Rheinmetall',\n",
       "       'Kharkiv', 'Bayreuth', 'Lower Saxony', 'North America',\n",
       "       'Sanna Marin', 'Saxony-Anhalt', 'Helsinki', 'Saarland',\n",
       "       'Netherlands.Today', 'Schleswig-Holstein', 'Varna', 'Erfurt',\n",
       "       'Mecklenburg-Vorpommern', 'Russophobic Germany', 'Canada',\n",
       "       'Ukraine.Earlier', 'Ukraine.We', 'Hakata', 'South Korea',\n",
       "       'United States', 'China', 'Russophobic Canada', 'Quebec',\n",
       "       'Central and Eastern Europe', 'Morocco', 'Republic of Belarus',\n",
       "       \"Ukraine.It's\", 'Milan', 'Donbass', 'Hiiumaa', 'Saaremaa',\n",
       "       'East Cambridgeshire', 'Baltic Sea', 'Chechen Republic',\n",
       "       'Bankovskaya Street', 'Black Sea', 'Ukronazi', 'Netherlands.Well',\n",
       "       'Malmö', 'Nazi Germany', 'Odessa', 'Croatia', 'St. George',\n",
       "       'Christian Andersen', 'Odense', 'Aarhus', 'Esbjerg', 'USSR',\n",
       "       'Naantali', 'Umeå', 'Vaasa', 'Pori', 'Hanko', 'Sweden.It', 'Volyn',\n",
       "       'Volhynia', 'Western Ukraine', 'Sejm of Poland', 'Thames',\n",
       "       'Budapest', 'Luhansk', 'Donetsk', 'Scotland',\n",
       "       'Seimas of the Republic of Lithuania', 'Jonava',\n",
       "       'Seimas of Latvia', 'Klaipedos Nafta', 'Lithuania Nauseda',\n",
       "       'Poland Duda', 'Sofia', 'Burgas', 'Saguenay', 'Livonia',\n",
       "       'Ukraine.By', 'Port of Amsterdam', 'Den Helder', 'Sölvesborg',\n",
       "       'Oskarshamn', 'Greece', 'Athens', 'Bandera.We', 'Piraeus',\n",
       "       'Thessaloniki', 'Sundsvall', 'Helsingborg', 'Uddevalla', 'Mersrag',\n",
       "       'Gulf of Riga', 'Skulte', 'Liepaja', 'Trieste', 'Olbia',\n",
       "       'Golfo Aranci', 'Adriatic Sea', 'India', 'Genoa',\n",
       "       'Central-North Tyrrhenian Sea', 'Northern Tyrrhenian Sea',\n",
       "       'Samedan', 'United States of America', 'Brazil', 'South Africa',\n",
       "       'St. Gallen-Altenrhein Airport', 'Geneva', 'Schaffhausen', 'Basel',\n",
       "       'Zurich', 'Lausanne', 'Montreux', 'St. Gallen', 'Bellinzona',\n",
       "       'Nidwalden', 'Alpine Republic', 'Stans', 'Buox', 'St. Moritz',\n",
       "       'Freiburg', 'Victoria', 'Belgium', 'Brussels',\n",
       "       'Brussels-Charleroi', 'Druzhba', 'EU.Today', 'Russophobic Sweden',\n",
       "       'Ukronazis', 'Russophobic France', 'Transilien', 'Litexpo',\n",
       "       'Borrell', 'Bastille', 'New Zealand', 'Europe.Recall', 'Australia',\n",
       "       'Madrid', 'Barcelona', 'Valencia', 'Catalonia', 'Alicante',\n",
       "       'San Fernando de Henares', 'South-Donetsk', 'Spain.Unfortunately',\n",
       "       'Turismo de Barcelona', 'Twitter', 'Palermo', 'Russian Volga',\n",
       "       'Naples', 'Venice', 'Sardinia', 'Bolzano', 'Trent', 'Turin',\n",
       "       'NoName057', 'Niger', 'Emshafen', 'Vlardingen', 'Vlaardingen',\n",
       "       'Agder', 'DDoSia', 'Port of Helsingborg', 'Oskarshamn Ferry Port',\n",
       "       'Norrtåg', 'Oslo', 'Zakopane', 'Nordland', 'Troms', 'Finnmark',\n",
       "       'Pskov', 'Republic of Latvia', 'Cezanne', 'Birmingham',\n",
       "       'Leicestershire', 'Cambridgeshire', 'Luxembourg', 'Portugal',\n",
       "       'Romania', 'Slovenia', 'Beaver', 'Stuttgart', 'Ruhr', 'Cologne',\n",
       "       'Frankfurt', 'Nuremberg', 'Croatia.Also', 'Rijeka',\n",
       "       'West Götaland', 'Kalmar', 'Blekinge', 'Prince Edward Island',\n",
       "       'Manitoba', 'Saskatchewan', 'Nova Scotia', 'Nunavut',\n",
       "       'Northwest Territories', 'British Columbia', 'Port Varna',\n",
       "       'Sofia.And', 'New York', 'Toledo', 'Albania', 'Kosovo', 'Serbia',\n",
       "       'Tirana', 'Maanteeamet', 'Montreal', 'Armenia', 'Edinburgh',\n",
       "       'Newcastle', 'Sunderland', 'Brighton', 'Hove', 'West Yorkshire',\n",
       "       'Metro', 'South Tyneside', 'South Yorkshire',\n",
       "       'Federal Republic of Germany', 'Lisbon', 'Lugansk',\n",
       "       'St. Petersburg', 'Saimaa River', 'Granada', 'Russophobic Spain',\n",
       "       'Peterhof', 'United States.', 'Hannover', 'Dortmund', 'Bremen',\n",
       "       'Darmstadt', 'Rostock', 'Bielefeld', 'Kleipeda', 'Zelensky',\n",
       "       'Scandinavia Color Line', 'Ireland', 'GEO', 'Norrtåg-Swedish',\n",
       "       'Scandinavia', 'Mediterranean Minoan Lines', 'Prague Castle',\n",
       "       'Crimean Peninsula', 'Perth', 'Galicia', 'El Ferrol', 'A Coruña',\n",
       "       'Malta', 'Czech Republic.We', 'Lugo', 'Russophobic Finland',\n",
       "       'Finland Naantali', 'Kharkov', 'Hargshamn', 'Ostrava', 'Yukon',\n",
       "       'Bundeswehr', 'Vilnius Bus Station', 'Ville', 'Russophobic West',\n",
       "       'Ukraine.Well', 'Argentina', 'Georgia', 'This Kingdom',\n",
       "       'Kyiv.Justin', 'Siena', 'Cagliari', 'Russia.Today',\n",
       "       'Ukraine.Apparently', 'British Birmingham', 'Taranto', 'Mecca',\n",
       "       'United Kingdom', 'Trento', 'Örebro', 'Northern Sweden',\n",
       "       'West Götaland Region', 'Belgorod', 'City of Dortmund',\n",
       "       'Frankfurt am Main', 'Kiel', 'Russia.Well', 'Rhine-Main', 'Borel',\n",
       "       'Rhaetian', 'Davos', 'Ramstein', 'Leicestershire County',\n",
       "       'Liverpool City', 'Bucharest', 'Myslibórz', 'Bordeaux', 'Normandy',\n",
       "       'Poitiers', 'New Occitanie', 'Lands', 'Po', 'Upper Garonne',\n",
       "       'Occitanie', 'Tarb', 'Gascony', 'Phoenix', 'Turku', 'Tampere City',\n",
       "       'Kotka-Hamina', 'New Aquitaine', 'Region Burgundy', 'Navarra',\n",
       "       'Seville', 'Malaga', 'Vigo', 'Jerez de la Frontera', 'Tenerife',\n",
       "       'Vitoria-Gasteiz', 'Bilbao', 'Las Palmas', 'Castello', 'Huelva',\n",
       "       'Canary Islandscheck-host.net', 'Cartagena', \"Naples'\", 'Sondrio',\n",
       "       'Lombardy', 'Linate', 'Malpensa', 'Burgundy', 'Guadeloupe',\n",
       "       'Region Normandy', 'Titose Airport', 'Hokkaido Prefecture',\n",
       "       'Titose', 'Tomakomaihttps', 'Nagoya City', 'Aichi Prefecture',\n",
       "       'Honshu', 'Copenhagen', 'Bornholm', 'Postnord', 'Transnistria',\n",
       "       'Moldova', 'Antwerphttps', 'Antwerp', 'Olomouc Region',\n",
       "       'Liberec Region', 'Prague.Czech', 'Colombia', 'Bogota',\n",
       "       'Russophobic Czech Republic', 'Wenceslas Square',\n",
       "       'Mihail Cogalniceanu', 'Constanta', 'Halkidiki', 'Steinzel',\n",
       "       'Saastopankki', 'Tampere', 'Oulu', 'North Brabant', 'Sumy',\n",
       "       'State Railroad', 'Portmone', 'Ljubljana',\n",
       "       'Northern Military District', 'Republic of Slovenia',\n",
       "       'Velenje City', 'Yahodyn', 'Rawa-Russka', 'Wielkopolska',\n",
       "       'Iberian Peninsula', 'Celje', 'Canary Islands', 'Atlantic',\n",
       "       'Gagauz Republic', 'Chisinau', 'Republic of Moldova', 'Poznan',\n",
       "       'Odessa House', 'Bergamo', 'Banderite', 'Banska-Bystrica kraj',\n",
       "       'Slovak', 'Banskobystrický kraj', 'Banská Bystrica',\n",
       "       'Trenčín Region', 'Trenčíncheck-host.net', 'Trnava',\n",
       "       'Trnavka River', 'CyberDragon', 'Uppsala City',\n",
       "       'Port of Cartagena', 'Port of Vigo', 'Donbas', 'Pilsen',\n",
       "       'Ukraine.As', 'Bürgenstock', 'Lucerne', 'Switzerland.And',\n",
       "       'Orange Romania', 'Kremlin', 'Sevastopol', 'Zaporizhia', 'Cyprus',\n",
       "       'KaliHunt', 'U.S.', 'Lapland', 'Liechtenstein', 'Israel', 'NEC',\n",
       "       'Redzikowo', 'Eastern Europe', 'White House', 'Gdańsk',\n",
       "       'Podkarpackie Voivodeship', 'Asia', 'America', 'Latin America',\n",
       "       'Lviv', 'Ternopil', 'Ivano-Frankivsk', 'Rivne',\n",
       "       'Rzeszow.Meanwhile', 'Rzeszow City', 'Metro de Varsovia',\n",
       "       'Polonia', 'Heartland', 'Hartland', 'Russian Empire',\n",
       "       'World Island', 'Eurasia', 'Africa', 'Osaka', 'Middle East',\n",
       "       'Rzeszów City', 'Hakodate', 'City of Brno', 'Brno',\n",
       "       'City of Plzeň', 'Port of Palma de Mallorca', 'Balearic Islands',\n",
       "       'Basque Country', 'Pakistan', 'pakistan', 'Baltic States',\n",
       "       'City of Murcia', 'Málaga', 'Soviet Union', 'Palma de Mallorca',\n",
       "       'Valencia Spain', 'Jerusalem', 'Port Palma de Mallorca',\n",
       "       'Balearic', 'Tel Aviv',\n",
       "       'Ferrocarrils de la Generalitat de Catalunya',\n",
       "       'Palma de Mallorca Port', 'RipperSec', 'Metro de Madrid',\n",
       "       'Metro de Palma', 'Haviržov', 'Liberec', 'City of Pilsen',\n",
       "       'Algeciras', 'Kursk Oblast', 'Nikolayevo-Daryino', 'Oleshnya',\n",
       "       'Kursk Region', 'Basovka', 'Zhuravka', 'Khoten', 'Yunakovka',\n",
       "       'Belovody', 'Hrapovshchyna', 'La Coruña', 'Usti nad Labem',\n",
       "       'Dnipro', 'Syria', 'Palestine', 'Fxck', 'Puerto de Odesa',\n",
       "       'S. P. Koroleva', 'Puerto fluvial de Kyiv', 'Klitschko', 'Gaza',\n",
       "       'Poltava', 'FuckUkraine', 'CyberArmy Of Russia'], dtype=object)"
      ]
     },
     "execution_count": 182,
     "metadata": {},
     "output_type": "execute_result"
    }
   ],
   "source": [
    "ner_tagged_data[ner_tagged_data[\"label\"] == 'LOC'][\"text\"].unique()\n"
   ]
  },
  {
   "cell_type": "code",
   "execution_count": null,
   "metadata": {},
   "outputs": [],
   "source": [
    "ner_tagged_data.to_parquet(\"data/ner_tagged_data.parquet\")"
   ]
  }
 ],
 "metadata": {
  "kernelspec": {
   "display_name": "base",
   "language": "python",
   "name": "python3"
  },
  "language_info": {
   "codemirror_mode": {
    "name": "ipython",
    "version": 3
   },
   "file_extension": ".py",
   "mimetype": "text/x-python",
   "name": "python",
   "nbconvert_exporter": "python",
   "pygments_lexer": "ipython3",
   "version": "3.11.6"
  }
 },
 "nbformat": 4,
 "nbformat_minor": 2
}
